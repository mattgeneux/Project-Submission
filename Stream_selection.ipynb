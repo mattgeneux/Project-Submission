{
  "nbformat": 4,
  "nbformat_minor": 0,
  "metadata": {
    "colab": {
      "name": "Stream_selection.ipynb",
      "provenance": []
    },
    "kernelspec": {
      "name": "python3",
      "display_name": "Python 3"
    },
    "language_info": {
      "name": "python"
    }
  },
  "cells": [
    {
      "cell_type": "markdown",
      "source": [
        "The following code selects the streams to be fitted to the respective models to measure their gini coefficients and topic percentages over stream duration "
      ],
      "metadata": {
        "id": "RcljcdLoy-TA"
      }
    },
    {
      "cell_type": "code",
      "source": [
        "import joblib"
      ],
      "metadata": {
        "id": "wMlYOdl80CSz"
      },
      "execution_count": null,
      "outputs": []
    },
    {
      "cell_type": "code",
      "source": [
        "# Extract data set zip file\n",
        "from zipfile import ZipFile\n",
        "with ZipFile('/content/drive/MyDrive/Year 3/Project/data_set.zip', 'r') as z:\n",
        "  z.extractall('/content/data_set')"
      ],
      "metadata": {
        "id": "RJQvA7yMzJ9x"
      },
      "execution_count": null,
      "outputs": []
    },
    {
      "cell_type": "code",
      "source": [
        "\n",
        "# The following code was adapted from https://stackoverflow.com/questions/30539679/python-read-several-json-files-from-a-folder\n",
        "\n",
        "import os, json\n",
        "import pandas as pd\n",
        "\n",
        "# this finds our json files\n",
        "path_to_json = '/content/data_set/data_set/data/Meta_Data'\n",
        "json_files = [pos_json for pos_json in os.listdir(path_to_json) if pos_json.endswith('.json')]\n",
        "\n",
        "# here I define my pandas Dataframe with the columns I want to get from the json\n",
        "jsons_data = pd.DataFrame(columns=['file name', 'user_view_count', 'user_broadcaster_type', 'stream_game_id', 'stream_type', 'stream_viewer_count', 'stream_start_date', 'stream_language'])\n",
        "\n",
        "# we need both the json and an index number so use enumerate()\n",
        "for index, js in enumerate(json_files):\n",
        "    with open(os.path.join(path_to_json, js)) as json_file:\n",
        "        json_text = json.load(json_file)\n",
        "\n",
        "        # include file name for use later on \n",
        "        file_name = js\n",
        "        user_view_count = json_text['user_view_count']\n",
        "        user_broadcaster_type = json_text['user_broadcaster_type']\n",
        "        stream_game_id = json_text['stream_game_id']\n",
        "        stream_type = json_text['stream_type']\n",
        "        stream_viewer_count = json_text['stream_viewer_count']\n",
        "        stream_start_date = json_text['stream_start_date']\n",
        "        stream_language = json_text['stream_language']\n",
        "        # here I push a list of data into a pandas DataFrame at row given by 'index'\n",
        "        jsons_data.loc[index] = [file_name, user_view_count, user_broadcaster_type, stream_game_id, stream_type, stream_viewer_count, stream_start_date, stream_language]\n",
        "\n",
        "# now that we have the pertinent json data in our DataFrame let's look at it\n",
        "print(jsons_data.head(5))\n"
      ],
      "metadata": {
        "id": "-wtKcehPzMUi"
      },
      "execution_count": null,
      "outputs": []
    },
    {
      "cell_type": "code",
      "source": [
        "# create a numpy array that stores each games ID, title and whether or not it is a shooter\n",
        "import numpy as np\n",
        "game_data = np.array([[21779, \"League of Legends\", False],\n",
        "[33214, \"Fortnite\", True],\n",
        "[32982, \"GTA V\", True],\n",
        "[18122, \"World of Warcraft\", False],\n",
        "[29595, \"Dota2\", False],\n",
        "[32399, \"CounterStrike Global Offensive\", True],\n",
        "[138585, \"Hearthstone\", False],\n",
        "[493057, \"Player Unknown's Battlegrounds\", True],\n",
        "[488552, \"Overwatch\", True],\n",
        "[460630, \"Rainbow 6 Siege\", True],\n",
        "[511224, \"Apex Legends\", True],\n",
        "[506103, \"Fifa 19\", False],\n",
        "[27471, \"Minecraft\", False],\n",
        "[502377, \"Total War Three Kingdoms\", False], \n",
        "[491487, \"Dead by Daylight\", False], \n",
        "[504462, \"Call of Duty Black Ops 4\", True], \n",
        "[490422, \"Starcraft 2\", False], \n",
        "[2748, \"Magic the Gathering\", False], \n",
        "[313558, \"Diablo 3\", False], \n",
        "[30921, \"Rocket League\", False]])"
      ],
      "metadata": {
        "id": "JSBFhRNVzPki"
      },
      "execution_count": null,
      "outputs": []
    },
    {
      "cell_type": "code",
      "source": [
        "# create games dataframe from the numpy array \n",
        "games = pd.DataFrame(data=game_data, columns=['GameID', 'Title', 'Shooter'] )\n",
        "\n",
        "games.head(5)"
      ],
      "metadata": {
        "id": "YEFqmI1JzTeu"
      },
      "execution_count": null,
      "outputs": []
    },
    {
      "cell_type": "code",
      "source": [
        "fortnite_metadata = jsons_data[jsons_data['stream_game_id'] == '33214']\n",
        "fortnite_metadata.sort_values(by=['stream_viewer_count'], ascending=False).head()\n",
        "\n",
        "league_metadata = jsons_data[jsons_data['stream_game_id'] == '21779']\n",
        "league_metadata.sort_values(by=['stream_viewer_count'], ascending=False).head()\n",
        "\n",
        "csgo_metadata = jsons_data[jsons_data['stream_game_id'] == '32399']\n",
        "csgo_metadata.sort_values(by=['stream_viewer_count'], ascending=False).head()\n",
        "\n",
        "warcraft_metadata = jsons_data[jsons_data['stream_game_id'] == '18122']\n",
        "warcraft_metadata.sort_values(by=['stream_viewer_count'], ascending=False).head()"
      ],
      "metadata": {
        "id": "RaQdwPyGzXPU"
      },
      "execution_count": null,
      "outputs": []
    },
    {
      "cell_type": "code",
      "source": [
        "# code adapted from https://stackoverflow.com/questions/20906474/import-multiple-csv-files-into-pandas-and-concatenate-into-one-dataframe\n",
        "os.chdir('..')\n",
        "\n",
        "# Read data into papers\n",
        "\n",
        "import glob\n",
        "\n",
        "path = r'/content/data_set/data_set/data' # use your path\n",
        "all_files = glob.glob(path + \"/*.csv\")\n",
        "\n",
        "all_files[0]"
      ],
      "metadata": {
        "id": "AypRFQp6zacp"
      },
      "execution_count": null,
      "outputs": []
    },
    {
      "cell_type": "code",
      "source": [
        "# fortnite data\n",
        "filename = \"/content/data_set/data_set/data/61ccf560dfcb9e075202bdfa590a69e2ea34b11f_7.csv\"\n",
        "fordf = pd.read_csv(filename, index_col=None, header=0)\n",
        "\n",
        "joblib.dump(fordf, \"/content/drive/MyDrive/Year 3/Project/Resources/fortnite_df\")\n",
        "\n",
        "# league of legends data \n",
        "filename = \"/content/data_set/data_set/data/5466bea5ee7cdc0b4056c20076e4bb81a5e050cf_10.csv\"\n",
        "leadf = pd.read_csv(filename, index_col=None, header=0)\n",
        "\n",
        "joblib.dump(leadf, \"/content/drive/MyDrive/Year 3/Project/Resources/league_df.joblib\")\n",
        "\n",
        "# larger league of legends stream\n",
        "filename = \"/content/data_set/data_set/data/5466bea5ee7cdc0b4056c20076e4bb81a5e050cf_7.csv\"\n",
        "leadf = pd.read_csv(filename, index_col=None, header=0)\n",
        "\n",
        "joblib.dump(leadf, \"/content/drive/MyDrive/Year 3/Project/Resources/league_df_bigger.joblib\")\n",
        "\n",
        "# csgo data \n",
        "filename = \"/content/data_set/data_set/data/4a9b3ef97fae51e513b14a7ccf8278366a4d275d_9.csv\"\n",
        "csdf = pd.read_csv(filename, index_col=None, header=0)\n",
        "joblib.dump(csdf, \"/content/drive/MyDrive/Year 3/Project/Resources/csgo_df.joblib\")\n",
        "\n",
        "# smaller csgo stream\n",
        "filename = \"/content/data_set/data_set/data/4a9b3ef97fae51e513b14a7ccf8278366a4d275d_6.csv\"\n",
        "csdf = pd.read_csv(filename, index_col=None, header=0)\n",
        "joblib.dump(csdf, \"/content/drive/MyDrive/Year 3/Project/Resources/csgo_df_smaller.joblib\")\n",
        "\n",
        "# world of warcraft stream \n",
        "filename = \"/content/data_set/data_set/data/4c2c094a584e2295d69193faead719a2556a45d1_9.csv\"\n",
        "wcdf = pd.read_csv(filename, index_col=None, header=0)\n",
        "joblib.dump(wcdf, \"/content/drive/MyDrive/Year 3/Project/Resources/warcraft_df.joblib\")"
      ],
      "metadata": {
        "id": "n7QNBinLzzyH"
      },
      "execution_count": null,
      "outputs": []
    }
  ]
}